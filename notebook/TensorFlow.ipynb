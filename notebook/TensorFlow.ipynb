{
  "nbformat": 4,
  "nbformat_minor": 0,
  "metadata": {
    "colab": {
      "name": "TensorFlow.ipynb",
      "provenance": [],
      "collapsed_sections": [],
      "authorship_tag": "ABX9TyNBSif8PRxPzVT1jHqMBdNh",
      "include_colab_link": true
    },
    "kernelspec": {
      "name": "python3",
      "display_name": "Python 3"
    }
  },
  "cells": [
    {
      "cell_type": "markdown",
      "metadata": {
        "id": "view-in-github",
        "colab_type": "text"
      },
      "source": [
        "<a href=\"https://colab.research.google.com/github/teatime77/HighlightEditor/blob/master/notebook/TensorFlow.ipynb\" target=\"_parent\"><img src=\"https://colab.research.google.com/assets/colab-badge.svg\" alt=\"Open In Colab\"/></a>"
      ]
    },
    {
      "cell_type": "markdown",
      "metadata": {
        "id": "cStfiXfmt6SU",
        "colab_type": "text"
      },
      "source": [
        "### Matplotlibで日本語が表示できるようにします。"
      ]
    },
    {
      "cell_type": "markdown",
      "metadata": {
        "id": "O10FLZiz7Sau",
        "colab_type": "text"
      },
      "source": [
        "#### IPAフォントをインストールします。"
      ]
    },
    {
      "cell_type": "code",
      "metadata": {
        "id": "-D_YthP1_S8N",
        "colab_type": "code",
        "colab": {}
      },
      "source": [
        "!apt-get -y install fonts-ipafont-gothic"
      ],
      "execution_count": 0,
      "outputs": []
    },
    {
      "cell_type": "markdown",
      "metadata": {
        "id": "URIrUa-87AbB",
        "colab_type": "text"
      },
      "source": [
        "#### Matplotlibのフォントのキャッシュを再構築します。"
      ]
    },
    {
      "cell_type": "code",
      "metadata": {
        "id": "Ou1qjZNOh0f0",
        "colab_type": "code",
        "colab": {}
      },
      "source": [
        "import matplotlib\n",
        "matplotlib.font_manager._rebuild()"
      ],
      "execution_count": 0,
      "outputs": []
    },
    {
      "cell_type": "markdown",
      "metadata": {
        "id": "hnkBU-ep7fPh",
        "colab_type": "text"
      },
      "source": [
        "#### <font color=\"red\">キャッシュの再構築を有効にするために、ここでランタイムを再起動してください。</font>"
      ]
    },
    {
      "cell_type": "markdown",
      "metadata": {
        "id": "91QGOAdaP1ot",
        "colab_type": "text"
      },
      "source": [
        "#### <font color=\"red\">以下の中から予測したい項目のコメントをはずしてください。</font>"
      ]
    },
    {
      "cell_type": "code",
      "metadata": {
        "id": "-gHGlhi7RVlH",
        "colab_type": "code",
        "colab": {}
      },
      "source": [
        "target = '売上高'\n",
        "# target = '営業利益'\n",
        "# target = '経常利益'\n",
        "# target = '税引前純利益'"
      ],
      "execution_count": 0,
      "outputs": []
    },
    {
      "cell_type": "markdown",
      "metadata": {
        "id": "pYF2dhoDVk7B",
        "colab_type": "text"
      },
      "source": [
        "### 選択した項目に対応するファイルをダウンロードします。"
      ]
    },
    {
      "cell_type": "code",
      "metadata": {
        "colab_type": "code",
        "id": "E-nxtlX8WGy_",
        "colab": {}
      },
      "source": [
        "if   target == '売上高':\n",
        "    ! wget http://lkzf.info/xbrl/data/2020-04-08/preprocess-uriage.pickle\n",
        "\n",
        "elif target == '営業利益':\n",
        "    ! wget http://lkzf.info/xbrl/data/2020-04-08/preprocess-eigyo.pickle\n",
        "\n",
        "elif target == '経常利益':\n",
        "    ! wget http://lkzf.info/xbrl/data/2020-04-08/preprocess-keijo.pickle\n",
        "\n",
        "elif target == '税引前純利益':\n",
        "    ! wget http://lkzf.info/xbrl/data/2020-04-08/preprocess-jun.pickle"
      ],
      "execution_count": 0,
      "outputs": []
    },
    {
      "cell_type": "markdown",
      "metadata": {
        "id": "PiTQqTsunzRu",
        "colab_type": "text"
      },
      "source": [
        "### 必要なライブラリをインポートします。"
      ]
    },
    {
      "cell_type": "code",
      "metadata": {
        "id": "7AQVPohPn0Sm",
        "colab_type": "code",
        "colab": {}
      },
      "source": [
        "import matplotlib.pyplot as plt\n",
        "import matplotlib.ticker as ticker\n",
        "import datetime\n",
        "import seaborn as sns\n",
        "import pandas as pd\n",
        "import numpy as np\n",
        "import pickle\n",
        "import pytz\n",
        "\n",
        "from sklearn.model_selection import train_test_split\n",
        "from sklearn.metrics import mean_squared_error, mean_absolute_error\n",
        "\n",
        "import tensorflow as tf\n",
        "\n",
        "from tensorflow import keras\n",
        "from tensorflow.keras import layers\n",
        "\n",
        "sns.set(font='IPAGothic')"
      ],
      "execution_count": 0,
      "outputs": []
    },
    {
      "cell_type": "markdown",
      "metadata": {
        "id": "Hfd6XHOkjZka",
        "colab_type": "text"
      },
      "source": [
        "## TensorBoardの準備をします。"
      ]
    },
    {
      "cell_type": "markdown",
      "metadata": {
        "id": "Ard_E8hj9zAp",
        "colab_type": "text"
      },
      "source": [
        "#### TensorBoardのノートブック拡張をロードします。"
      ]
    },
    {
      "cell_type": "code",
      "metadata": {
        "id": "rQwu4e7Cjn71",
        "colab_type": "code",
        "colab": {}
      },
      "source": [
        "%load_ext tensorboard"
      ],
      "execution_count": 0,
      "outputs": []
    },
    {
      "cell_type": "markdown",
      "metadata": {
        "id": "4qMYheSrn9pO",
        "colab_type": "text"
      },
      "source": [
        "### ログの出力先のフォルダーをクリアします。"
      ]
    },
    {
      "cell_type": "code",
      "metadata": {
        "id": "UWHPX3SqrSJM",
        "colab_type": "code",
        "colab": {}
      },
      "source": [
        "!rm -rf ./logs/ \n",
        "!ls"
      ],
      "execution_count": 0,
      "outputs": []
    },
    {
      "cell_type": "markdown",
      "metadata": {
        "id": "qIm3ARiL-D-5",
        "colab_type": "text"
      },
      "source": [
        "### TensorBoardを開始します。"
      ]
    },
    {
      "cell_type": "code",
      "metadata": {
        "id": "WIiGl2CQtAAg",
        "colab_type": "code",
        "colab": {}
      },
      "source": [
        "%tensorboard --logdir logs"
      ],
      "execution_count": 0,
      "outputs": []
    },
    {
      "cell_type": "markdown",
      "metadata": {
        "id": "ywraaiRK2756",
        "colab_type": "text"
      },
      "source": [
        "## 全結合ニューラルネットワーク"
      ]
    },
    {
      "cell_type": "markdown",
      "metadata": {
        "id": "11X2kfvWNSMU",
        "colab_type": "text"
      },
      "source": [
        "#### データを読み込みます。"
      ]
    },
    {
      "cell_type": "code",
      "metadata": {
        "id": "-D9J2Q-2L3E7",
        "colab_type": "code",
        "colab": {}
      },
      "source": [
        "def read_data():\n",
        "\n",
        "    if   target == '売上高':\n",
        "        file_name = 'preprocess-uriage.pickle'\n",
        "    elif target == '営業利益':\n",
        "        file_name = 'preprocess-eigyo.pickle'\n",
        "    elif target == '経常利益':\n",
        "        file_name = 'preprocess-keijo.pickle'\n",
        "    elif target == '税引前純利益':\n",
        "        file_name = 'preprocess-jun.pickle'\n",
        "    else:\n",
        "        assert False\n",
        "\n",
        "    with open(file_name, 'rb') as f:\n",
        "        data = pickle.load(f)\n",
        "\n",
        "    # PandasのDataFrame\n",
        "    df = data['data_frame']\n",
        "\n",
        "    # 予測する列の名前\n",
        "    y_column = data['y_column']\n",
        "\n",
        "    return df, y_column"
      ],
      "execution_count": 0,
      "outputs": []
    },
    {
      "cell_type": "code",
      "metadata": {
        "id": "Fq4mpbTo9F6t",
        "colab_type": "code",
        "colab": {}
      },
      "source": [
        "df, y_column = read_data()"
      ],
      "execution_count": 0,
      "outputs": []
    },
    {
      "cell_type": "markdown",
      "metadata": {
        "id": "Km0ceHOpivqV",
        "colab_type": "text"
      },
      "source": [
        "### データの準備をします。"
      ]
    },
    {
      "cell_type": "code",
      "metadata": {
        "id": "w5dPE2D2t1Bo",
        "colab_type": "code",
        "colab": {}
      },
      "source": [
        "X_columns = [ x for x in df.columns if x != y_column ]\n",
        "\n",
        "# トレーニングデータとテストデータに分けます。\n",
        "X_train, X_test, y_train, y_test = train_test_split(df[X_columns], df[y_column], test_size=0.2, random_state=0)\n",
        "\n",
        "# numpyの配列を取り出します。\n",
        "X_train = X_train.values\n",
        "X_test  = X_test.values\n",
        "y_train = y_train.values\n",
        "y_test  = y_test.values\n",
        "\n",
        "print(X_train.shape, X_test.shape, y_train.shape, y_test.shape)"
      ],
      "execution_count": 0,
      "outputs": []
    },
    {
      "cell_type": "markdown",
      "metadata": {
        "id": "ekvcTRfkIceU",
        "colab_type": "text"
      },
      "source": [
        "### 全結合のモデルを作ります。"
      ]
    },
    {
      "cell_type": "code",
      "metadata": {
        "id": "9iyJn-r07pC0",
        "colab_type": "code",
        "colab": {}
      },
      "source": [
        "from keras.optimizers import Adam\n",
        "\n",
        "unit = X_train.shape[1]\n",
        "\n",
        "model = keras.Sequential([\n",
        "    layers.Dense(unit, activation='relu', input_shape=[unit]),\n",
        "    layers.BatchNormalization(),\n",
        "    layers.Dropout(0.5),\n",
        "    layers.Dense(unit, activation='relu'),\n",
        "    layers.BatchNormalization(),\n",
        "    layers.Dropout(0.5),\n",
        "    layers.Dense(unit, activation='relu'),\n",
        "    layers.BatchNormalization(),\n",
        "    layers.Dropout(0.5),\n",
        "    layers.Dense(1)\n",
        "])\n",
        "\n",
        "optimizer = tf.keras.optimizers.RMSprop(0.001)\n",
        "\n",
        "model.compile(loss='mse', optimizer=optimizer, metrics=['mse', 'mae'])"
      ],
      "execution_count": 0,
      "outputs": []
    },
    {
      "cell_type": "markdown",
      "metadata": {
        "id": "ukm6knit5U4S",
        "colab_type": "text"
      },
      "source": [
        "### ログとEarlyStoppingのコールバックの設定をします。"
      ]
    },
    {
      "cell_type": "code",
      "metadata": {
        "id": "ApIQ6PO-vqEJ",
        "colab_type": "code",
        "colab": {}
      },
      "source": [
        "log_dir = \"logs/全結合-\" + datetime.datetime.now(pytz.timezone('Asia/Tokyo')).strftime(\"%H時%M分%S秒\")\n",
        "tensorboard_callback = tf.keras.callbacks.TensorBoard(log_dir=log_dir, histogram_freq=1)\n",
        "early_stop = keras.callbacks.EarlyStopping(monitor='val_loss', patience=10, verbose=1)"
      ],
      "execution_count": 0,
      "outputs": []
    },
    {
      "cell_type": "markdown",
      "metadata": {
        "id": "TsUv0YOw5LBL",
        "colab_type": "text"
      },
      "source": [
        "### 学習を開始します。"
      ]
    },
    {
      "cell_type": "code",
      "metadata": {
        "id": "kU_bdbsv5f2a",
        "colab_type": "code",
        "colab": {}
      },
      "source": [
        "model.fit(x=X_train, y=y_train, epochs=50, validation_data=(X_test, y_test), callbacks=[tensorboard_callback, early_stop])"
      ],
      "execution_count": 0,
      "outputs": []
    },
    {
      "cell_type": "markdown",
      "metadata": {
        "id": "JUsTpoo7wQVg",
        "colab_type": "text"
      },
      "source": [
        "### テストデータで予測します。"
      ]
    },
    {
      "cell_type": "code",
      "metadata": {
        "id": "Qjt8DkfzHnHo",
        "colab_type": "code",
        "colab": {}
      },
      "source": [
        "y_pred = model.predict(X_test).flatten()"
      ],
      "execution_count": 0,
      "outputs": []
    },
    {
      "cell_type": "markdown",
      "metadata": {
        "id": "lKt4mbKfGp6B",
        "colab_type": "text"
      },
      "source": [
        "#### 平均二乗誤差と平均絶対誤差を表示します。"
      ]
    },
    {
      "cell_type": "code",
      "metadata": {
        "id": "4JyCMLTrXoQQ",
        "colab_type": "code",
        "colab": {}
      },
      "source": [
        "# 平均二乗誤差を計算します。\n",
        "mse_pred = mean_squared_error(y_test, y_pred)\n",
        "mse_mean = mean_squared_error(y_test, [y_test.mean()] * len(y_test) )\n",
        "\n",
        "# 平均絶対誤差を計算します。\n",
        "mae_pred = mean_absolute_error(y_test, y_pred)\n",
        "mae_mean = mean_absolute_error(y_test, [y_test.mean()] * len(y_test) )\n",
        "\n",
        "print('\\n平均二乗誤差 : %.4f ( %.4f )  平均絶対誤差 : %.4f ( %.4f )    ※ カッコ内は全予測値を平均値で置き換えた場合\\n' % (mse_pred, mse_mean, mae_pred, mae_mean))\n",
        "\n",
        "# 売上高の予測の場合、これくらいになるはず\n",
        "# 平均二乗誤差 : 0.0583 ( 0.0667 )  平均絶対誤差 : 0.1720 ( 0.1968 )"
      ],
      "execution_count": 0,
      "outputs": []
    },
    {
      "cell_type": "markdown",
      "metadata": {
        "id": "3JyVy7E_wM8e",
        "colab_type": "text"
      },
      "source": [
        "### 正解と予測の散布図を表示します。"
      ]
    },
    {
      "cell_type": "code",
      "metadata": {
        "id": "6ge1uRoJtb3U",
        "colab_type": "code",
        "colab": {}
      },
      "source": [
        "sns.jointplot(y_test, y_pred, kind=\"reg\").set_axis_labels('正解', '予測')"
      ],
      "execution_count": 0,
      "outputs": []
    },
    {
      "cell_type": "markdown",
      "metadata": {
        "id": "M7PMMY1i-AgT",
        "colab_type": "text"
      },
      "source": [
        "## LSTM"
      ]
    },
    {
      "cell_type": "markdown",
      "metadata": {
        "colab_type": "text",
        "id": "gejclgojlqhv"
      },
      "source": [
        "#### データを読み込みます。"
      ]
    },
    {
      "cell_type": "code",
      "metadata": {
        "colab_type": "code",
        "id": "jSG6g5fSlqh6",
        "colab": {}
      },
      "source": [
        "df, y_column = read_data()"
      ],
      "execution_count": 0,
      "outputs": []
    },
    {
      "cell_type": "markdown",
      "metadata": {
        "id": "K5yOhL_-VgJa",
        "colab_type": "text"
      },
      "source": [
        "#### 3次元の入力の行列を作ります。 ( 会社数 x 4期 x 財務指標数 )"
      ]
    },
    {
      "cell_type": "code",
      "metadata": {
        "id": "mAb3dNvqk4HW",
        "colab_type": "code",
        "colab": {}
      },
      "source": [
        "# 入力の列の名前\n",
        "X_columns = [ x for x in df.columns if x != y_column ]\n",
        "\n",
        "# 入力データ\n",
        "dfX = df[X_columns]\n",
        "\n",
        "# 出力データ\n",
        "dfy = df[y_column]\n",
        "\n",
        "# EDINETコード\n",
        "edinet_codes = dfX.index.map(lambda x: x[0])\n",
        "\n",
        "# 会社数\n",
        "num_company = len(set(edinet_codes))\n",
        "\n",
        "# 4期目までの値を使って、次期変化率を予測する。\n",
        "years = 4\n",
        "\n",
        "# Xの3次元行列  ( 会社数 x 4期 x 財務指標数 )\n",
        "X_dt = np.zeros((num_company, years, len(X_columns) ))\n",
        "\n",
        "# yの1次元配列\n",
        "y_dt = np.zeros((num_company, ))\n",
        "\n",
        "# 直前のEDINETコード\n",
        "prev_code = None\n",
        "\n",
        "# 現在の会社の開始行\n",
        "start_row = 0\n",
        "\n",
        "# 会社のインデックス\n",
        "i_company = 0\n",
        "\n",
        "# EDINETコードと次期変化率の値に対し\n",
        "for row, (code, y) in enumerate(zip(edinet_codes, dfy)):\n",
        "    if prev_code == code:\n",
        "        # 会社が同じ場合\n",
        "\n",
        "        if row - start_row == years - 1:\n",
        "            # 現在の行が4期目の場合\n",
        "\n",
        "            # 4期目までの値をXに入れる。\n",
        "            X_dt[i_company, :, :] = dfX.values[start_row:start_row+years, :]\n",
        "\n",
        "            # 4期目の次期変化率\n",
        "            y_dt[i_company] = y\n",
        "\n",
        "            # 会社のインデックス\n",
        "            i_company += 1\n",
        "    else:\n",
        "        # 会社が変わった場合\n",
        "\n",
        "        # 直前のEDINETコード\n",
        "        prev_code = code\n",
        "\n",
        "        # 現在の会社の開始行\n",
        "        start_row = row"
      ],
      "execution_count": 0,
      "outputs": []
    },
    {
      "cell_type": "markdown",
      "metadata": {
        "id": "wt5ifcBEOtVA",
        "colab_type": "text"
      },
      "source": [
        "### データが入ってない部分を削除します。"
      ]
    },
    {
      "cell_type": "code",
      "metadata": {
        "id": "86BRojtu23rk",
        "colab_type": "code",
        "colab": {}
      },
      "source": [
        "X_dt = np.delete(X_dt, np.s_[i_company:], 0)\n",
        "y_dt = np.delete(y_dt, np.s_[i_company:], 0)"
      ],
      "execution_count": 0,
      "outputs": []
    },
    {
      "cell_type": "markdown",
      "metadata": {
        "id": "04V6moJmCsqj",
        "colab_type": "text"
      },
      "source": [
        "### トレーニングデータとテストデータに分けます。"
      ]
    },
    {
      "cell_type": "code",
      "metadata": {
        "id": "0jKGxh1kBSUP",
        "colab_type": "code",
        "colab": {}
      },
      "source": [
        "X_train, X_test, y_train, y_test = train_test_split(X_dt, y_dt, test_size=0.2, random_state=0)\n",
        "print(X_train.shape, X_test.shape, y_train.shape, y_test.shape)"
      ],
      "execution_count": 0,
      "outputs": []
    },
    {
      "cell_type": "markdown",
      "metadata": {
        "id": "F9CdyQHeIVfy",
        "colab_type": "text"
      },
      "source": [
        "### LSTMのモデルを作ります。"
      ]
    },
    {
      "cell_type": "code",
      "metadata": {
        "id": "gfUYrx_JuVO1",
        "colab_type": "code",
        "colab": {}
      },
      "source": [
        "unit = X_train.shape[2]\n",
        "model = keras.Sequential([\n",
        "    layers.LSTM(unit, dropout=0.5),\n",
        "    layers.BatchNormalization(),\n",
        "    layers.Dropout(0.5),\n",
        "    layers.Dense(unit, activation='selu'), # elu tanh sigmoid relu\n",
        "    layers.BatchNormalization(),\n",
        "    layers.Dropout(0.5),\n",
        "    layers.Dense(1)\n",
        "])\n",
        "\n",
        "optimizer = tf.keras.optimizers.RMSprop(0.001)\n",
        "\n",
        "model.compile(loss='mse', optimizer=optimizer, metrics=['mae', 'mse'])"
      ],
      "execution_count": 0,
      "outputs": []
    },
    {
      "cell_type": "markdown",
      "metadata": {
        "id": "-ese7fU25w8p",
        "colab_type": "text"
      },
      "source": [
        "### ログとEarlyStoppingのコールバックの設定をします。"
      ]
    },
    {
      "cell_type": "code",
      "metadata": {
        "id": "T1GTWu0R-GAB",
        "colab_type": "code",
        "colab": {}
      },
      "source": [
        "log_dir = \"logs/LSTM-\" + datetime.datetime.now(pytz.timezone('Asia/Tokyo')).strftime(\"%H時%M分%S秒\")\n",
        "\n",
        "tensorboard_callback = tf.keras.callbacks.TensorBoard(log_dir=log_dir, histogram_freq=1)\n",
        "\n",
        "early_stop = keras.callbacks.EarlyStopping(monitor='val_loss', patience=10, verbose=1)"
      ],
      "execution_count": 0,
      "outputs": []
    },
    {
      "cell_type": "markdown",
      "metadata": {
        "id": "30MESwGA54UX",
        "colab_type": "text"
      },
      "source": [
        "### 学習を開始します。"
      ]
    },
    {
      "cell_type": "code",
      "metadata": {
        "id": "ReVd4xG055fG",
        "colab_type": "code",
        "colab": {}
      },
      "source": [
        "model.fit(x=X_train, y=y_train, epochs=100, validation_data=(X_test, y_test), callbacks=[tensorboard_callback, early_stop])"
      ],
      "execution_count": 0,
      "outputs": []
    },
    {
      "cell_type": "markdown",
      "metadata": {
        "id": "3Az3HAumlu64",
        "colab_type": "text"
      },
      "source": [
        "### テストデータで予測します。"
      ]
    },
    {
      "cell_type": "code",
      "metadata": {
        "id": "Bk5nIYBOTSlE",
        "colab_type": "code",
        "colab": {}
      },
      "source": [
        "y_pred = model.predict(X_test)\n",
        "y_pred = y_pred.reshape((y_pred.shape[0],))"
      ],
      "execution_count": 0,
      "outputs": []
    },
    {
      "cell_type": "markdown",
      "metadata": {
        "id": "LvY2DlPNG3yi",
        "colab_type": "text"
      },
      "source": [
        "#### 平均二乗誤差と平均絶対誤差を表示します。"
      ]
    },
    {
      "cell_type": "code",
      "metadata": {
        "id": "i0oNxp2NVrSr",
        "colab_type": "code",
        "colab": {}
      },
      "source": [
        "# 平均二乗誤差を計算します。\n",
        "mse_pred = mean_squared_error(y_test, y_pred)\n",
        "mse_mean = mean_squared_error(y_test, [y_test.mean()] * len(y_test) )\n",
        "\n",
        "# 平均絶対誤差を計算します。\n",
        "mae_pred = mean_absolute_error(y_test, y_pred)\n",
        "mae_mean = mean_absolute_error(y_test, [y_test.mean()] * len(y_test) )\n",
        "\n",
        "print('\\n平均二乗誤差 : %.4f ( %.4f )  平均絶対誤差 : %.4f ( %.4f )    ※ カッコ内は全予測値を平均値で置き換えた場合\\n' % (mse_pred, mse_mean, mae_pred, mae_mean))\n",
        "\n",
        "# 売上高の予測の場合、これくらいになるはず\n",
        "# 平均二乗誤差 : 0.0435 ( 0.0542 )  平均絶対誤差 : 0.1481 ( 0.1713 )"
      ],
      "execution_count": 0,
      "outputs": []
    },
    {
      "cell_type": "markdown",
      "metadata": {
        "id": "MuRmfMX9Hhzd",
        "colab_type": "text"
      },
      "source": [
        "### 正解と予測の散布図を表示します。"
      ]
    },
    {
      "cell_type": "code",
      "metadata": {
        "id": "7m13dLsfV4Ay",
        "colab_type": "code",
        "colab": {}
      },
      "source": [
        "sns.jointplot(y_test, y_pred, kind=\"reg\").set_axis_labels('正解', '予測')"
      ],
      "execution_count": 0,
      "outputs": []
    }
  ]
}